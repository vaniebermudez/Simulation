{
 "cells": [
  {
   "cell_type": "markdown",
   "id": "9bb558b6",
   "metadata": {},
   "source": [
    "## AMAT 250: Problem Set 2"
   ]
  },
  {
   "cell_type": "markdown",
   "id": "6aed53b8",
   "metadata": {},
   "source": [
    "### Item 1A\n",
    "Simulate a repeated prisoner's dilemma game where the number of repetitions of the game is arbitrary and depends on the user. <br> Try different scenarios where players defer or cooperate all the time, or a player's move depends on the other player's previous action(s). <br> The choice of player characteristics can be random or can be chosen by the user. <br> Please indicate the payoff matrix that you used."
   ]
  },
  {
   "cell_type": "markdown",
   "id": "bedf9f05",
   "metadata": {},
   "source": [
    "______"
   ]
  },
  {
   "cell_type": "markdown",
   "id": "07d48fd3",
   "metadata": {},
   "source": [
    "### Some assumptions for this simulation"
   ]
  },
  {
   "cell_type": "markdown",
   "id": "f71720b9",
   "metadata": {},
   "source": [
    "**The prisoners’ dilemma:** <br>Two bank robbers P1 and P2 are arrested. In absence\n",
    "of a confession, the attorney can only prove the illegal possession of weapons\n",
    "(three years of incarceration for each). So he offers each of them\n",
    "(independently and without any possibility existing that the two can\n",
    "communicate in order to coordinate anything) a guarantee that if a full and\n",
    "truthful confession is made then, as chief witness, only 1 year will be served\n",
    "while the other one if continuing to plead innocence suffers the full\n",
    "punishment (let this be 9 years here). To make it interesting, should both\n",
    "confess then both will get 7 years."
   ]
  },
  {
   "cell_type": "markdown",
   "id": "93dbcb8c",
   "metadata": {},
   "source": [
    "#### 1. Player\n",
    "\n",
    "- P1 - Player 1 (Row player)\n",
    "- P2 - Player 2 (Column player)"
   ]
  },
  {
   "cell_type": "markdown",
   "id": "20d0cd22",
   "metadata": {},
   "source": [
    "#### 2. Pay-off Matrix\n",
    "Here is the pay-off matrix to be used in this simulation."
   ]
  },
  {
   "cell_type": "markdown",
   "id": "b478b562",
   "metadata": {},
   "source": [
    "|              \t| Player 2   \t|          \t|          \t|\n",
    "|--------------\t|------------\t|----------\t|----------\t|\n",
    "| **Player 1** \t| Strategies \t| CONFESS  \t| DENY     \t|\n",
    "|              \t| CONFESS    \t| (-7, -7) \t| (-1, -9) \t|\n",
    "|              \t| DENY       \t| (-9, -1) \t| (-3, -3) \t|"
   ]
  },
  {
   "cell_type": "markdown",
   "id": "00295e1c",
   "metadata": {},
   "source": [
    "#### 3. Strategies\n",
    "There are multiple strategies each player can do. For this simulation, we will limit it to the four below.\n",
    " - Strategy 1 - Always confess\n",
    " - Strategy 2 - Always deny\n",
    " - Strategy 3 - Alternate (confess first, then deny)\n",
    " - Strategy 4 - Confess but retailiate if the other player previously deny\n",
    " - Strategy 5 - Randomly confess or deny"
   ]
  },
  {
   "cell_type": "markdown",
   "id": "2a9872e1",
   "metadata": {},
   "source": [
    "#### 4. Rounds\n",
    "The user will set the number of rounds before starting the game."
   ]
  },
  {
   "cell_type": "markdown",
   "id": "d2c8b167",
   "metadata": {},
   "source": [
    "_______"
   ]
  },
  {
   "cell_type": "markdown",
   "id": "0e7c560d",
   "metadata": {},
   "source": [
    "### Create Python Functions for each process"
   ]
  },
  {
   "cell_type": "code",
   "execution_count": 1,
   "id": "155c33a6",
   "metadata": {},
   "outputs": [],
   "source": [
    "# import libraries needed\n",
    "\n",
    "%matplotlib inline\n",
    "import matplotlib.pyplot as plt\n",
    "import random\n",
    "import numpy as np\n",
    "import pandas as pd"
   ]
  },
  {
   "cell_type": "code",
   "execution_count": 2,
   "id": "7a70114b",
   "metadata": {},
   "outputs": [],
   "source": [
    "# selecting strategy\n",
    "def strat_select(player_strat, player_history, other_player_history):\n",
    "    if player_strat == 1:\n",
    "        return strat1()\n",
    "    elif player_strat == 2:\n",
    "        return strat2()\n",
    "    elif player_strat == 3:\n",
    "        return strat3(player_history)\n",
    "    elif player_strat == 4:\n",
    "        return strat4(other_player_history)\n",
    "    elif player_strat == 5:\n",
    "        return strat5()\n",
    "    else:\n",
    "        print(\"Invalid strategy\")"
   ]
  },
  {
   "cell_type": "code",
   "execution_count": 3,
   "id": "74c2b0dc",
   "metadata": {},
   "outputs": [],
   "source": [
    "# strategy name\n",
    "def print_strat(player_strat):\n",
    "    if player_strat == 1:\n",
    "        return \"always confess\"\n",
    "    elif player_strat == 2:\n",
    "        return \"always deny\"\n",
    "    elif player_strat == 3:\n",
    "        return \"alternately confess and deny\"\n",
    "    elif player_strat == 4:\n",
    "        return \"cooperate but retaliate\"\n",
    "    elif player_strat == 5:\n",
    "        return \"randomly confess or deny\""
   ]
  },
  {
   "cell_type": "code",
   "execution_count": 4,
   "id": "341bffde",
   "metadata": {},
   "outputs": [],
   "source": [
    "# always confess\n",
    "def strat1():\n",
    "    return \"C\""
   ]
  },
  {
   "cell_type": "code",
   "execution_count": 5,
   "id": "d19f6611",
   "metadata": {},
   "outputs": [],
   "source": [
    "# always deny\n",
    "def strat2():\n",
    "    return \"D\""
   ]
  },
  {
   "cell_type": "code",
   "execution_count": 6,
   "id": "1a27130b",
   "metadata": {},
   "outputs": [],
   "source": [
    "# alternately confess and deny\n",
    "def strat3(player_history):\n",
    "    if len(player_history) == 0:\n",
    "        return \"C\"\n",
    "    elif player_history[-1] == \"C\":\n",
    "        return \"D\"\n",
    "    else:\n",
    "        return \"C\""
   ]
  },
  {
   "cell_type": "code",
   "execution_count": 7,
   "id": "20080bf8",
   "metadata": {},
   "outputs": [],
   "source": [
    "# confess but retaliate if other player denied previously\n",
    "def strat4(other_player_history):\n",
    "    if len(other_player_history) == 0:\n",
    "        return \"C\"\n",
    "    elif other_player_history[-1] == \"D\":\n",
    "        return \"D\"\n",
    "    else:\n",
    "        return \"C\""
   ]
  },
  {
   "cell_type": "code",
   "execution_count": 8,
   "id": "08108f08",
   "metadata": {},
   "outputs": [],
   "source": [
    "# randomly confess or deny\n",
    "def strat5():\n",
    "    randomizer = random.randint(0,1)\n",
    "    if randomizer == 0:\n",
    "        return \"C\"\n",
    "    else:\n",
    "        return \"D\""
   ]
  },
  {
   "cell_type": "code",
   "execution_count": 9,
   "id": "b25f1f46",
   "metadata": {},
   "outputs": [],
   "source": [
    "# Pay-off calculations for a player\n",
    "def player_pay_off(player_history, other_player_history):\n",
    "    player_payoff = []\n",
    "    for i in range(0, len(player_history)):\n",
    "        if player_history[i] == \"C\" and other_player_history[i] == \"C\":\n",
    "            player_pay = -7\n",
    "        elif player_history[i] == \"C\" and other_player_history[i] == \"D\":\n",
    "            player_pay = -1\n",
    "        elif player_history[i] == \"D\" and other_player_history[i] == \"C\":\n",
    "            player_pay = -9\n",
    "        elif player_history[i] == \"D\" and other_player_history[i] == \"C\":\n",
    "            player_pay = -3\n",
    "        player_payoff.append(player_pay)\n",
    "        #print(player_pay)\n",
    "    return player_payoff"
   ]
  },
  {
   "cell_type": "markdown",
   "id": "c97ed7cb",
   "metadata": {},
   "source": [
    "___________"
   ]
  },
  {
   "cell_type": "markdown",
   "id": "45c84998",
   "metadata": {},
   "source": [
    "### Main Gameplay Code"
   ]
  },
  {
   "cell_type": "code",
   "execution_count": 10,
   "id": "e802bb24",
   "metadata": {},
   "outputs": [
    {
     "name": "stdout",
     "output_type": "stream",
     "text": [
      "Hello! Welcome to this simulation of a repeated prisoner's dilemma\n",
      "How many rounds do you want to play?\n",
      "15\n"
     ]
    }
   ],
   "source": [
    "# Initializing the number of rounds for the game\n",
    "print(\"Hello! Welcome to this simulation of a repeated prisoner's dilemma\")\n",
    "rounds = int(input(\"How many rounds do you want to play?\\n\"))"
   ]
  },
  {
   "cell_type": "code",
   "execution_count": 11,
   "id": "c5b4146b",
   "metadata": {},
   "outputs": [
    {
     "name": "stdout",
     "output_type": "stream",
     "text": [
      "**Player 1 Strategy**\n",
      "Select the strategy you want for player 1.\n",
      "\n",
      " - Strategy 1 - Always cooperate\n",
      " - Strategy 2 - Always defect\n",
      " - Strategy 3 - Alternate (cooperate first, then defect)\n",
      " - Strategy 4 - Cooperate but retailiate if the other player previously defect\n",
      " - Strategy 5 - Randomly confess or deny\n",
      "\n",
      "Type only the number of strategy (i.e., 1, 2, 3, 4 or 5)\n",
      "5\n"
     ]
    }
   ],
   "source": [
    "# Selecting the strategy for Player 1\n",
    "\n",
    "print(\"**Player 1 Strategy**\")\n",
    "print(\"Select the strategy you want for player 1.\")\n",
    "print(\"\"\"\n",
    " - Strategy 1 - Always cooperate\n",
    " - Strategy 2 - Always defect\n",
    " - Strategy 3 - Alternate (cooperate first, then defect)\n",
    " - Strategy 4 - Cooperate but retailiate if the other player previously defect\n",
    " - Strategy 5 - Randomly confess or deny\n",
    "\"\"\")\n",
    "P1_strat = 0\n",
    "while P1_strat < 1 or P1_strat > 5:\n",
    "    P1_strat = int(input(\"Type only the number of strategy (i.e., 1, 2, 3, 4 or 5)\\n\"))"
   ]
  },
  {
   "cell_type": "code",
   "execution_count": 12,
   "id": "d2605593",
   "metadata": {},
   "outputs": [
    {
     "name": "stdout",
     "output_type": "stream",
     "text": [
      "**Player 2 Strategy**\n",
      "Select the strategy you want for player 2.\n",
      "\n",
      " - Strategy 1 - Always cooperate\n",
      " - Strategy 2 - Always defect\n",
      " - Strategy 3 - Alternate (cooperate first, then defect)\n",
      " - Strategy 4 - Cooperate but retailiate if the other player previously defect\n",
      "\n",
      "Type only the number of strategy (i.e., 1, 2, 3, 4 or 5)\n",
      "4\n"
     ]
    }
   ],
   "source": [
    "# Selecting the strategy for Player 2\n",
    "\n",
    "print(\"**Player 2 Strategy**\")\n",
    "print(\"Select the strategy you want for player 2.\")\n",
    "print(\"\"\"\n",
    " - Strategy 1 - Always cooperate\n",
    " - Strategy 2 - Always defect\n",
    " - Strategy 3 - Alternate (cooperate first, then defect)\n",
    " - Strategy 4 - Cooperate but retailiate if the other player previously defect\n",
    "\"\"\")\n",
    "P2_strat = 0\n",
    "while P2_strat < 1 or P2_strat > 5:\n",
    "    P2_strat = int(input(\"Type only the number of strategy (i.e., 1, 2, 3, 4 or 5)\\n\"))"
   ]
  },
  {
   "cell_type": "code",
   "execution_count": 13,
   "id": "88f6e9ce",
   "metadata": {},
   "outputs": [
    {
     "name": "stdout",
     "output_type": "stream",
     "text": [
      "Player 1 will randomly confess or deny, while Player 2 will cooperate but retaliate.\n"
     ]
    }
   ],
   "source": [
    "p1_strat_name = print_strat(P1_strat)\n",
    "p2_strat_name = print_strat(P2_strat)\n",
    "print(f\"Player 1 will {p1_strat_name}, while Player 2 will {p2_strat_name}.\")"
   ]
  },
  {
   "cell_type": "code",
   "execution_count": 14,
   "id": "f4b71996",
   "metadata": {},
   "outputs": [],
   "source": [
    "# initialize player move history\n",
    "P1_history = []\n",
    "P2_history = []"
   ]
  },
  {
   "cell_type": "code",
   "execution_count": 15,
   "id": "962d98ad",
   "metadata": {},
   "outputs": [
    {
     "name": "stdout",
     "output_type": "stream",
     "text": [
      "C - confess, D - Deny\n",
      "\n",
      "Here are the moves done by Player 1, \t['D', 'C', 'C', 'D', 'C', 'C', 'C', 'C', 'C', 'C', 'D', 'C', 'D', 'C', 'C']\n",
      "\n",
      "While  the moves done by Player 2, \t['C', 'D', 'C', 'C', 'D', 'C', 'C', 'C', 'C', 'C', 'C', 'D', 'C', 'D', 'C']\n"
     ]
    }
   ],
   "source": [
    "# Game play proper\n",
    "for r in range(0, rounds):\n",
    "    p1_move = strat_select(P1_strat, P1_history, P2_history)\n",
    "    p2_move = strat_select(P2_strat, P2_history, P1_history)\n",
    "    P1_history.append(p1_move)\n",
    "    P2_history.append(p2_move)\n",
    "print(\"C - confess, D - Deny\\n\")\n",
    "print(f\"Here are the moves done by Player 1, \\t{P1_history}\\n\")\n",
    "print(f\"While  the moves done by Player 2, \\t{P2_history}\")"
   ]
  },
  {
   "cell_type": "markdown",
   "id": "3236bb10",
   "metadata": {},
   "source": [
    "### Pay-off Calculations"
   ]
  },
  {
   "cell_type": "code",
   "execution_count": 16,
   "id": "462dd8b8",
   "metadata": {},
   "outputs": [
    {
     "name": "stdout",
     "output_type": "stream",
     "text": [
      "Here are the pay-offs by Player 1, \t[-9, -1, -7, -9, -1, -7, -7, -7, -7, -7, -9, -1, -9, -1, -7] with a sum of -89 and average pay-off per round -5.933.\n",
      "\n",
      "While  the pay-offs by Player 2, \t[-1, -9, -7, -1, -9, -7, -7, -7, -7, -7, -1, -9, -1, -9, -7] with a sum of -89 and average pay-off per round -5.933.\n"
     ]
    }
   ],
   "source": [
    "# Pay-off Calculations for each player\n",
    "p1_payoff = player_pay_off(P1_history, P2_history)\n",
    "p1_sum = sum(p1_payoff)\n",
    "p1_ave = np.mean(p1_payoff)\n",
    "p2_payoff = player_pay_off(P2_history, P1_history)\n",
    "p2_sum = sum(p2_payoff)\n",
    "p2_ave = np.mean(p2_payoff)\n",
    "\n",
    "print(f\"Here are the pay-offs by Player 1, \\t{p1_payoff} with a sum of {p1_sum} and average pay-off per round {round(p1_ave, 3)}.\\n\")\n",
    "print(f\"While  the pay-offs by Player 2, \\t{p2_payoff} with a sum of {p2_sum} and average pay-off per round {round(p1_ave, 3)}.\")"
   ]
  },
  {
   "cell_type": "code",
   "execution_count": 17,
   "id": "c7057f78",
   "metadata": {},
   "outputs": [],
   "source": [
    "# creating data tables for each player\n",
    "p1 = pd.DataFrame([P1_history, p1_payoff, np.array(p1_payoff).cumsum()], \n",
    "                  index=[\"Move\", \"Pay-Off\", \"Cumulative Pay-off\"], columns=np.arange(1, len(p1_payoff)+1))\n",
    "p1_df = p1.T\n",
    "p2 = pd.DataFrame([P2_history, p2_payoff, np.array(p2_payoff).cumsum()], \n",
    "                  index=[\"Move\", \"Pay-Off\", \"Cumulative Pay-off\"], columns=np.arange(1, len(p2_payoff)+1))\n",
    "p2_df = p2.T"
   ]
  },
  {
   "cell_type": "code",
   "execution_count": 18,
   "id": "45243dcb",
   "metadata": {},
   "outputs": [
    {
     "data": {
      "text/html": [
       "<div>\n",
       "<style scoped>\n",
       "    .dataframe tbody tr th:only-of-type {\n",
       "        vertical-align: middle;\n",
       "    }\n",
       "\n",
       "    .dataframe tbody tr th {\n",
       "        vertical-align: top;\n",
       "    }\n",
       "\n",
       "    .dataframe thead th {\n",
       "        text-align: right;\n",
       "    }\n",
       "</style>\n",
       "<table border=\"1\" class=\"dataframe\">\n",
       "  <thead>\n",
       "    <tr style=\"text-align: right;\">\n",
       "      <th></th>\n",
       "      <th>Round #</th>\n",
       "      <th>Move</th>\n",
       "      <th>Pay-Off</th>\n",
       "      <th>Cumulative Pay-off</th>\n",
       "    </tr>\n",
       "  </thead>\n",
       "  <tbody>\n",
       "    <tr>\n",
       "      <th>0</th>\n",
       "      <td>1</td>\n",
       "      <td>D</td>\n",
       "      <td>-9</td>\n",
       "      <td>-9</td>\n",
       "    </tr>\n",
       "    <tr>\n",
       "      <th>1</th>\n",
       "      <td>2</td>\n",
       "      <td>C</td>\n",
       "      <td>-1</td>\n",
       "      <td>-10</td>\n",
       "    </tr>\n",
       "    <tr>\n",
       "      <th>2</th>\n",
       "      <td>3</td>\n",
       "      <td>C</td>\n",
       "      <td>-7</td>\n",
       "      <td>-17</td>\n",
       "    </tr>\n",
       "    <tr>\n",
       "      <th>3</th>\n",
       "      <td>4</td>\n",
       "      <td>D</td>\n",
       "      <td>-9</td>\n",
       "      <td>-26</td>\n",
       "    </tr>\n",
       "    <tr>\n",
       "      <th>4</th>\n",
       "      <td>5</td>\n",
       "      <td>C</td>\n",
       "      <td>-1</td>\n",
       "      <td>-27</td>\n",
       "    </tr>\n",
       "    <tr>\n",
       "      <th>5</th>\n",
       "      <td>6</td>\n",
       "      <td>C</td>\n",
       "      <td>-7</td>\n",
       "      <td>-34</td>\n",
       "    </tr>\n",
       "    <tr>\n",
       "      <th>6</th>\n",
       "      <td>7</td>\n",
       "      <td>C</td>\n",
       "      <td>-7</td>\n",
       "      <td>-41</td>\n",
       "    </tr>\n",
       "    <tr>\n",
       "      <th>7</th>\n",
       "      <td>8</td>\n",
       "      <td>C</td>\n",
       "      <td>-7</td>\n",
       "      <td>-48</td>\n",
       "    </tr>\n",
       "    <tr>\n",
       "      <th>8</th>\n",
       "      <td>9</td>\n",
       "      <td>C</td>\n",
       "      <td>-7</td>\n",
       "      <td>-55</td>\n",
       "    </tr>\n",
       "    <tr>\n",
       "      <th>9</th>\n",
       "      <td>10</td>\n",
       "      <td>C</td>\n",
       "      <td>-7</td>\n",
       "      <td>-62</td>\n",
       "    </tr>\n",
       "    <tr>\n",
       "      <th>10</th>\n",
       "      <td>11</td>\n",
       "      <td>D</td>\n",
       "      <td>-9</td>\n",
       "      <td>-71</td>\n",
       "    </tr>\n",
       "    <tr>\n",
       "      <th>11</th>\n",
       "      <td>12</td>\n",
       "      <td>C</td>\n",
       "      <td>-1</td>\n",
       "      <td>-72</td>\n",
       "    </tr>\n",
       "    <tr>\n",
       "      <th>12</th>\n",
       "      <td>13</td>\n",
       "      <td>D</td>\n",
       "      <td>-9</td>\n",
       "      <td>-81</td>\n",
       "    </tr>\n",
       "    <tr>\n",
       "      <th>13</th>\n",
       "      <td>14</td>\n",
       "      <td>C</td>\n",
       "      <td>-1</td>\n",
       "      <td>-82</td>\n",
       "    </tr>\n",
       "    <tr>\n",
       "      <th>14</th>\n",
       "      <td>15</td>\n",
       "      <td>C</td>\n",
       "      <td>-7</td>\n",
       "      <td>-89</td>\n",
       "    </tr>\n",
       "  </tbody>\n",
       "</table>\n",
       "</div>"
      ],
      "text/plain": [
       "    Round # Move Pay-Off Cumulative Pay-off\n",
       "0         1    D      -9                 -9\n",
       "1         2    C      -1                -10\n",
       "2         3    C      -7                -17\n",
       "3         4    D      -9                -26\n",
       "4         5    C      -1                -27\n",
       "5         6    C      -7                -34\n",
       "6         7    C      -7                -41\n",
       "7         8    C      -7                -48\n",
       "8         9    C      -7                -55\n",
       "9        10    C      -7                -62\n",
       "10       11    D      -9                -71\n",
       "11       12    C      -1                -72\n",
       "12       13    D      -9                -81\n",
       "13       14    C      -1                -82\n",
       "14       15    C      -7                -89"
      ]
     },
     "execution_count": 18,
     "metadata": {},
     "output_type": "execute_result"
    }
   ],
   "source": [
    "p1_new = p1_df.reset_index()\n",
    "p1_data = p1_new.rename(columns={\"index\": \"Round #\"})\n",
    "p1_data"
   ]
  },
  {
   "cell_type": "code",
   "execution_count": 19,
   "id": "3e3ad4fa",
   "metadata": {},
   "outputs": [
    {
     "data": {
      "text/html": [
       "<div>\n",
       "<style scoped>\n",
       "    .dataframe tbody tr th:only-of-type {\n",
       "        vertical-align: middle;\n",
       "    }\n",
       "\n",
       "    .dataframe tbody tr th {\n",
       "        vertical-align: top;\n",
       "    }\n",
       "\n",
       "    .dataframe thead th {\n",
       "        text-align: right;\n",
       "    }\n",
       "</style>\n",
       "<table border=\"1\" class=\"dataframe\">\n",
       "  <thead>\n",
       "    <tr style=\"text-align: right;\">\n",
       "      <th></th>\n",
       "      <th>Round #</th>\n",
       "      <th>Move</th>\n",
       "      <th>Pay-Off</th>\n",
       "      <th>Cumulative Pay-off</th>\n",
       "    </tr>\n",
       "  </thead>\n",
       "  <tbody>\n",
       "    <tr>\n",
       "      <th>0</th>\n",
       "      <td>1</td>\n",
       "      <td>C</td>\n",
       "      <td>-1</td>\n",
       "      <td>-1</td>\n",
       "    </tr>\n",
       "    <tr>\n",
       "      <th>1</th>\n",
       "      <td>2</td>\n",
       "      <td>D</td>\n",
       "      <td>-9</td>\n",
       "      <td>-10</td>\n",
       "    </tr>\n",
       "    <tr>\n",
       "      <th>2</th>\n",
       "      <td>3</td>\n",
       "      <td>C</td>\n",
       "      <td>-7</td>\n",
       "      <td>-17</td>\n",
       "    </tr>\n",
       "    <tr>\n",
       "      <th>3</th>\n",
       "      <td>4</td>\n",
       "      <td>C</td>\n",
       "      <td>-1</td>\n",
       "      <td>-18</td>\n",
       "    </tr>\n",
       "    <tr>\n",
       "      <th>4</th>\n",
       "      <td>5</td>\n",
       "      <td>D</td>\n",
       "      <td>-9</td>\n",
       "      <td>-27</td>\n",
       "    </tr>\n",
       "    <tr>\n",
       "      <th>5</th>\n",
       "      <td>6</td>\n",
       "      <td>C</td>\n",
       "      <td>-7</td>\n",
       "      <td>-34</td>\n",
       "    </tr>\n",
       "    <tr>\n",
       "      <th>6</th>\n",
       "      <td>7</td>\n",
       "      <td>C</td>\n",
       "      <td>-7</td>\n",
       "      <td>-41</td>\n",
       "    </tr>\n",
       "    <tr>\n",
       "      <th>7</th>\n",
       "      <td>8</td>\n",
       "      <td>C</td>\n",
       "      <td>-7</td>\n",
       "      <td>-48</td>\n",
       "    </tr>\n",
       "    <tr>\n",
       "      <th>8</th>\n",
       "      <td>9</td>\n",
       "      <td>C</td>\n",
       "      <td>-7</td>\n",
       "      <td>-55</td>\n",
       "    </tr>\n",
       "    <tr>\n",
       "      <th>9</th>\n",
       "      <td>10</td>\n",
       "      <td>C</td>\n",
       "      <td>-7</td>\n",
       "      <td>-62</td>\n",
       "    </tr>\n",
       "    <tr>\n",
       "      <th>10</th>\n",
       "      <td>11</td>\n",
       "      <td>C</td>\n",
       "      <td>-1</td>\n",
       "      <td>-63</td>\n",
       "    </tr>\n",
       "    <tr>\n",
       "      <th>11</th>\n",
       "      <td>12</td>\n",
       "      <td>D</td>\n",
       "      <td>-9</td>\n",
       "      <td>-72</td>\n",
       "    </tr>\n",
       "    <tr>\n",
       "      <th>12</th>\n",
       "      <td>13</td>\n",
       "      <td>C</td>\n",
       "      <td>-1</td>\n",
       "      <td>-73</td>\n",
       "    </tr>\n",
       "    <tr>\n",
       "      <th>13</th>\n",
       "      <td>14</td>\n",
       "      <td>D</td>\n",
       "      <td>-9</td>\n",
       "      <td>-82</td>\n",
       "    </tr>\n",
       "    <tr>\n",
       "      <th>14</th>\n",
       "      <td>15</td>\n",
       "      <td>C</td>\n",
       "      <td>-7</td>\n",
       "      <td>-89</td>\n",
       "    </tr>\n",
       "  </tbody>\n",
       "</table>\n",
       "</div>"
      ],
      "text/plain": [
       "    Round # Move Pay-Off Cumulative Pay-off\n",
       "0         1    C      -1                 -1\n",
       "1         2    D      -9                -10\n",
       "2         3    C      -7                -17\n",
       "3         4    C      -1                -18\n",
       "4         5    D      -9                -27\n",
       "5         6    C      -7                -34\n",
       "6         7    C      -7                -41\n",
       "7         8    C      -7                -48\n",
       "8         9    C      -7                -55\n",
       "9        10    C      -7                -62\n",
       "10       11    C      -1                -63\n",
       "11       12    D      -9                -72\n",
       "12       13    C      -1                -73\n",
       "13       14    D      -9                -82\n",
       "14       15    C      -7                -89"
      ]
     },
     "execution_count": 19,
     "metadata": {},
     "output_type": "execute_result"
    }
   ],
   "source": [
    "p2_new = p2_df.reset_index()\n",
    "p2_data = p2_new.rename(columns={\"index\": \"Round #\"})\n",
    "p2_data"
   ]
  },
  {
   "cell_type": "code",
   "execution_count": 20,
   "id": "cb6cdea1",
   "metadata": {},
   "outputs": [
    {
     "data": {
      "image/png": "[encoded data removed]",
      "text/plain": [
       "<Figure size 720x576 with 1 Axes>"
      ]
     },
     "metadata": {
      "needs_background": "light"
     },
     "output_type": "display_data"
    }
   ],
   "source": [
    "# Visualizing the Pay-off for Player 1\n",
    "fig, ax = plt.subplots(figsize=(10,8))\n",
    "\n",
    "ax.plot(p1_data[\"Round #\"], p1_data[\"Pay-Off\"], label=\"Pay-Off per Round\", marker='o', linestyle='None')\n",
    "ax.plot(p1_data[\"Round #\"], p1_data[\"Cumulative Pay-off\"], label=\"Cumulative Pay-Off\", marker='o',)\n",
    "\n",
    "# x-axis label\n",
    "ax.set_xlabel(\"Round #\")\n",
    "\n",
    "# y-axis label\n",
    "ax.set_ylabel(\"Pay-off\")\n",
    "\n",
    "# graph title\n",
    "ax.set_title(\"Player 1 Pay-off\")\n",
    "\n",
    "plt.legend()\n",
    "plt.show()"
   ]
  },
  {
   "cell_type": "code",
   "execution_count": 21,
   "id": "a82afaed",
   "metadata": {},
   "outputs": [
    {
     "data": {
      "image/png": "[encoded data removed]",
      "text/plain": [
       "<Figure size 720x576 with 1 Axes>"
      ]
     },
     "metadata": {
      "needs_background": "light"
     },
     "output_type": "display_data"
    }
   ],
   "source": [
    "# Visualizing the Pay-off for Player 2\n",
    "fig, ax = plt.subplots(figsize=(10,8))\n",
    "\n",
    "ax.plot(p2_data[\"Round #\"], p2_data[\"Pay-Off\"], label=\"Pay-Off per Round\", marker='o', linestyle='None')\n",
    "ax.plot(p2_data[\"Round #\"], p2_data[\"Cumulative Pay-off\"], label=\"Cumulative Pay-Off\", marker='o',)\n",
    "\n",
    "# x-axis label\n",
    "ax.set_xlabel(\"Round #\")\n",
    "\n",
    "# y-axis label\n",
    "ax.set_ylabel(\"Pay-off\")\n",
    "\n",
    "# graph title\n",
    "ax.set_title(\"Player 2 Pay-off\")\n",
    "\n",
    "plt.legend()\n",
    "plt.show()"
   ]
  },
  {
   "cell_type": "code",
   "execution_count": 22,
   "id": "3bf500c3",
   "metadata": {},
   "outputs": [],
   "source": []
  }
 ],
 "metadata": {
  "kernelspec": {
   "display_name": "Python 3 (ipykernel)",
   "language": "python",
   "name": "python3"
  },
  "language_info": {
   "codemirror_mode": {
    "name": "ipython",
    "version": 3
   },
   "file_extension": ".py",
   "mimetype": "text/x-python",
   "name": "python",
   "nbconvert_exporter": "python",
   "pygments_lexer": "ipython3",
   "version": "3.9.7"
  }
 },
 "nbformat": 4,
 "nbformat_minor": 5
}
